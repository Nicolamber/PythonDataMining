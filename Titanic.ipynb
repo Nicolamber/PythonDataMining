{
 "cells": [
  {
   "cell_type": "markdown",
   "metadata": {},
   "source": [
    "# Titanic\n",
    "\n",
    "## Integrantes:\n",
    "- Nicolas Nuñez\n",
    "- Agustin Davila\n",
    "- Leandro Sgroi\n",
    "- Nicolas Lambertucci"
   ]
  },
  {
   "cell_type": "markdown",
   "metadata": {},
   "source": [
    "## Preprocecamiento"
   ]
  },
  {
   "cell_type": "code",
   "execution_count": 178,
   "metadata": {},
   "outputs": [],
   "source": [
    "# Importar librerias\n",
    "import numpy as np\n",
    "import pandas as pd\n",
    "from sklearn.model_selection import train_test_split\n",
    "from sklearn.compose import ColumnTransformer\n",
    "from sklearn.pipeline import Pipeline\n",
    "from sklearn.impute import SimpleImputer\n",
    "from sklearn.preprocessing import StandardScaler\n",
    "from sklearn.preprocessing import LabelEncoder"
   ]
  },
  {
   "cell_type": "code",
   "execution_count": 182,
   "metadata": {},
   "outputs": [
    {
     "name": "stdout",
     "output_type": "stream",
     "text": [
      "Tipo de datos:\n",
      "Pclass        int64\n",
      "Name         object\n",
      "Sex          object\n",
      "Age         float64\n",
      "SibSp         int64\n",
      "Parch         int64\n",
      "Ticket       object\n",
      "Fare        float64\n",
      "Cabin        object\n",
      "Embarked     object\n",
      "dtype: object\n",
      "\n",
      "Cantidad de filas de los datos de entrenamiento 623\n",
      "\n",
      "Cantidad de columnas de los datos de entrenamiento 10\n",
      "\n"
     ]
    },
    {
     "data": {
      "text/html": [
       "<div>\n",
       "<style scoped>\n",
       "    .dataframe tbody tr th:only-of-type {\n",
       "        vertical-align: middle;\n",
       "    }\n",
       "\n",
       "    .dataframe tbody tr th {\n",
       "        vertical-align: top;\n",
       "    }\n",
       "\n",
       "    .dataframe thead th {\n",
       "        text-align: right;\n",
       "    }\n",
       "</style>\n",
       "<table border=\"1\" class=\"dataframe\">\n",
       "  <thead>\n",
       "    <tr style=\"text-align: right;\">\n",
       "      <th></th>\n",
       "      <th>Pclass</th>\n",
       "      <th>Name</th>\n",
       "      <th>Sex</th>\n",
       "      <th>Age</th>\n",
       "      <th>SibSp</th>\n",
       "      <th>Parch</th>\n",
       "      <th>Ticket</th>\n",
       "      <th>Fare</th>\n",
       "      <th>Cabin</th>\n",
       "      <th>Embarked</th>\n",
       "    </tr>\n",
       "  </thead>\n",
       "  <tbody>\n",
       "    <tr>\n",
       "      <th>707</th>\n",
       "      <td>1</td>\n",
       "      <td>Calderhead, Mr. Edward Pennington</td>\n",
       "      <td>male</td>\n",
       "      <td>42.0</td>\n",
       "      <td>0</td>\n",
       "      <td>0</td>\n",
       "      <td>PC 17476</td>\n",
       "      <td>26.2875</td>\n",
       "      <td>E24</td>\n",
       "      <td>S</td>\n",
       "    </tr>\n",
       "    <tr>\n",
       "      <th>246</th>\n",
       "      <td>3</td>\n",
       "      <td>Lindahl, Miss. Agda Thorilda Viktoria</td>\n",
       "      <td>female</td>\n",
       "      <td>25.0</td>\n",
       "      <td>0</td>\n",
       "      <td>0</td>\n",
       "      <td>347071</td>\n",
       "      <td>7.7750</td>\n",
       "      <td>NaN</td>\n",
       "      <td>S</td>\n",
       "    </tr>\n",
       "    <tr>\n",
       "      <th>624</th>\n",
       "      <td>3</td>\n",
       "      <td>Bowen, Mr. David John \"Dai\"</td>\n",
       "      <td>male</td>\n",
       "      <td>21.0</td>\n",
       "      <td>0</td>\n",
       "      <td>0</td>\n",
       "      <td>54636</td>\n",
       "      <td>16.1000</td>\n",
       "      <td>NaN</td>\n",
       "      <td>S</td>\n",
       "    </tr>\n",
       "    <tr>\n",
       "      <th>96</th>\n",
       "      <td>1</td>\n",
       "      <td>Goldschmidt, Mr. George B</td>\n",
       "      <td>male</td>\n",
       "      <td>71.0</td>\n",
       "      <td>0</td>\n",
       "      <td>0</td>\n",
       "      <td>PC 17754</td>\n",
       "      <td>34.6542</td>\n",
       "      <td>A5</td>\n",
       "      <td>C</td>\n",
       "    </tr>\n",
       "    <tr>\n",
       "      <th>576</th>\n",
       "      <td>2</td>\n",
       "      <td>Garside, Miss. Ethel</td>\n",
       "      <td>female</td>\n",
       "      <td>34.0</td>\n",
       "      <td>0</td>\n",
       "      <td>0</td>\n",
       "      <td>243880</td>\n",
       "      <td>13.0000</td>\n",
       "      <td>NaN</td>\n",
       "      <td>S</td>\n",
       "    </tr>\n",
       "  </tbody>\n",
       "</table>\n",
       "</div>"
      ],
      "text/plain": [
       "     Pclass                                   Name     Sex   Age  SibSp  \\\n",
       "707       1      Calderhead, Mr. Edward Pennington    male  42.0      0   \n",
       "246       3  Lindahl, Miss. Agda Thorilda Viktoria  female  25.0      0   \n",
       "624       3            Bowen, Mr. David John \"Dai\"    male  21.0      0   \n",
       "96        1              Goldschmidt, Mr. George B    male  71.0      0   \n",
       "576       2                   Garside, Miss. Ethel  female  34.0      0   \n",
       "\n",
       "     Parch    Ticket     Fare Cabin Embarked  \n",
       "707      0  PC 17476  26.2875   E24        S  \n",
       "246      0    347071   7.7750   NaN        S  \n",
       "624      0     54636  16.1000   NaN        S  \n",
       "96       0  PC 17754  34.6542    A5        C  \n",
       "576      0    243880  13.0000   NaN        S  "
      ]
     },
     "execution_count": 182,
     "metadata": {},
     "output_type": "execute_result"
    }
   ],
   "source": [
    "# Importar los datos\n",
    "\n",
    "data_train = pd.read_csv(\"./train.csv\") \n",
    "x_test_kaggle = pd.read_csv(\"./test.csv\")\n",
    "\n",
    "x = data_train.drop([\"Survived\", \"PassengerId\"], axis=1)\n",
    "y = data_train.Survived\n",
    "\n",
    "x_train, x_test, y_train, y_test = train_test_split(x, y, test_size=0.3, random_state=25)\n",
    "\n",
    "print(f\"Tipo de datos:\\n{x_train.dtypes}\\n\")\n",
    "print(f\"Cantidad de filas de los datos de entrenamiento {x_train.shape[0]}\\n\")\n",
    "print(f\"Cantidad de columnas de los datos de entrenamiento {x_train.shape[1]}\\n\")\n",
    "x_train.head()"
   ]
  },
  {
   "cell_type": "code",
   "execution_count": 184,
   "metadata": {},
   "outputs": [
    {
     "name": "stdout",
     "output_type": "stream",
     "text": [
      "Columnas numericas ['Pclass', 'Age', 'SibSp', 'Parch', 'Fare']\n",
      "Columnas categoricas ['Sex', 'Embarked']\n"
     ]
    }
   ],
   "source": [
    "# Seleccion de columnas\n",
    "\n",
    "numeric_columns = [\n",
    "   column for column in x_train.columns\n",
    "   if x_train[column].dtype == \"float64\" or x_train[column].dtype == \"int64\"\n",
    "]\n",
    "\n",
    "categoric_columns = [\n",
    "   column for column in x_train.columns\n",
    "   if x_train[column].nunique() < 10 and x_train[column].dtype == \"object\"\n",
    "]\n",
    "\n",
    "print(f\"Columnas numericas {numeric_columns}\")\n",
    "print(f\"Columnas categoricas {categoric_columns}\")\n",
    "\n",
    "selected_columns = numeric_columns + categoric_columns\n",
    "\n",
    "prep_data_train = x_train[selected_columns].copy()\n",
    "prep_data_test_kaggle = x_test_kaggle[selected_columns].copy()\n",
    "prep_data_test = x_test[selected_columns].copy()"
   ]
  },
  {
   "cell_type": "code",
   "execution_count": 185,
   "metadata": {},
   "outputs": [],
   "source": [
    "# Preprocesamineto para datos numéricos\n",
    "from sklearn.preprocessing import OneHotEncoder\n",
    "numerical_transformer = Pipeline(steps=[\n",
    "   ('imputer', SimpleImputer(strategy='constant')),\n",
    "   ('scalar', StandardScaler()),\n",
    "])\n",
    "\n",
    "# Preprocesamiento para datos categóricos\n",
    "categorical_transformer = Pipeline(steps=[\n",
    "    ('imputer', SimpleImputer(strategy='most_frequent')),\n",
    "    ('onehot', OneHotEncoder(handle_unknown='ignore')),\n",
    "])\n",
    "\n",
    "# Agrupa el procesamiento para datos numéricos y categóricos\n",
    "preprocessor = ColumnTransformer(\n",
    "    transformers=[\n",
    "        ('num', numerical_transformer, numeric_columns),\n",
    "        ('cat', categorical_transformer, categoric_columns)\n",
    "    ])"
   ]
  },
  {
   "cell_type": "markdown",
   "metadata": {},
   "source": [
    "## Seleccion de modelo"
   ]
  },
  {
   "cell_type": "code",
   "execution_count": 201,
   "metadata": {},
   "outputs": [],
   "source": [
    "from sklearn.ensemble import RandomForestClassifier\n",
    "from sklearn.model_selection import GridSearchCV"
   ]
  },
  {
   "cell_type": "markdown",
   "metadata": {},
   "source": [
    "### Instanciacion de modelo"
   ]
  },
  {
   "cell_type": "code",
   "execution_count": 248,
   "metadata": {},
   "outputs": [
    {
     "name": "stdout",
     "output_type": "stream",
     "text": [
      "{'bootstrap': True, 'ccp_alpha': 0.0, 'class_weight': None, 'criterion': 'gini', 'max_depth': None, 'max_features': 'auto', 'max_leaf_nodes': None, 'max_samples': None, 'min_impurity_decrease': 0.0, 'min_impurity_split': None, 'min_samples_leaf': 1, 'min_samples_split': 2, 'min_weight_fraction_leaf': 0.0, 'n_estimators': 100, 'n_jobs': None, 'oob_score': False, 'random_state': 0, 'verbose': 0, 'warm_start': False}\n"
     ]
    }
   ],
   "source": [
    "model = RandomForestClassifier(n_estimators=100, random_state=0)\n",
    "\n",
    "pipeline = Pipeline(steps=[\n",
    "                           ('preprocessor', preprocessor),\n",
    "                           ('model', model),\n",
    "                        ]\n",
    "                   )\n",
    "\n",
    "print(model.get_params())\n",
    "hyperparameters = { 'model__max_depth' : [2, 6, 10],\n",
    "                    'model__min_samples_split': [2, 8, 16],\n",
    "                    'model__n_estimators': [100, 300, 600, 900]\n",
    "                  }"
   ]
  },
  {
   "cell_type": "markdown",
   "metadata": {},
   "source": [
    "### Optimizacion de modelo"
   ]
  },
  {
   "cell_type": "code",
   "execution_count": 249,
   "metadata": {},
   "outputs": [],
   "source": [
    "clf = GridSearchCV(pipeline, hyperparameters, cv = 10)"
   ]
  },
  {
   "cell_type": "markdown",
   "metadata": {},
   "source": [
    "### Entrenamiento y prediccion"
   ]
  },
  {
   "cell_type": "code",
   "execution_count": 250,
   "metadata": {},
   "outputs": [
    {
     "name": "stdout",
     "output_type": "stream",
     "text": [
      "0.8218894009216589\n",
      "{'model__max_depth': 10, 'model__min_samples_split': 8, 'model__n_estimators': 900}\n"
     ]
    }
   ],
   "source": [
    "# Entrenamiento\n",
    "clf.fit(prep_data_train, y_train)\n",
    "# print(clf.best_estimator_)\n",
    "print(clf.best_score_)\n",
    "print(clf.best_params_)"
   ]
  },
  {
   "cell_type": "code",
   "execution_count": 252,
   "metadata": {},
   "outputs": [],
   "source": [
    "\n",
    "# Obtencion de predicciones\n",
    "test_result = clf.predict(prep_data_test)\n",
    "kaggle_result = clf.predict(prep_data_test_kaggle)"
   ]
  },
  {
   "cell_type": "markdown",
   "metadata": {},
   "source": [
    "## Evaluacion de modelos"
   ]
  },
  {
   "cell_type": "code",
   "execution_count": 195,
   "metadata": {},
   "outputs": [],
   "source": [
    "from sklearn.model_selection import cross_val_score\n",
    "from sklearn import model_selection\n",
    "from sklearn.model_selection import StratifiedKFold\n",
    "from sklearn.metrics import confusion_matrix\n",
    "from sklearn.metrics import classification_report\n",
    "import matplotlib.pyplot as plt  \n",
    "import seaborn as sns"
   ]
  },
  {
   "cell_type": "markdown",
   "metadata": {},
   "source": [
    "### Evaluacion global"
   ]
  },
  {
   "cell_type": "code",
   "execution_count": 253,
   "metadata": {},
   "outputs": [
    {
     "data": {
      "text/plain": [
       "0.8208955223880597"
      ]
     },
     "execution_count": 253,
     "metadata": {},
     "output_type": "execute_result"
    }
   ],
   "source": [
    "clf.score(prep_data_test, y_test)"
   ]
  },
  {
   "cell_type": "markdown",
   "metadata": {},
   "source": [
    "### Evaluacion cruzada con MAE"
   ]
  },
  {
   "cell_type": "code",
   "execution_count": 254,
   "metadata": {},
   "outputs": [
    {
     "name": "stdout",
     "output_type": "stream",
     "text": [
      "MAE scores:\n",
      " [0.216      0.176      0.168      0.16129032 0.23387097]\n",
      "Average MAE score (across experiments):\n",
      "0.19103225806451613\n"
     ]
    }
   ],
   "source": [
    "scores = -1 * cross_val_score(pipeline, prep_data_train, y_train,\n",
    "                              cv=5,\n",
    "                              scoring='neg_mean_absolute_error')\n",
    "\n",
    "print(\"MAE scores:\\n\", scores)\n",
    "print(\"Average MAE score (across experiments):\")\n",
    "print(scores.mean())"
   ]
  },
  {
   "cell_type": "markdown",
   "metadata": {},
   "source": [
    "### Evaluacion cruzada estratificada"
   ]
  },
  {
   "cell_type": "code",
   "execution_count": 246,
   "metadata": {},
   "outputs": [
    {
     "name": "stdout",
     "output_type": "stream",
     "text": [
      "F1: 78.99%\n",
      "F1: [0.62930793 0.88470588 0.83173077 0.78863636 0.86594595 0.76315016\n",
      " 0.79605263 0.85909091 0.7620614  0.71818182]\n",
      "F1:  0.790 +/-  0.073\n"
     ]
    }
   ],
   "source": [
    "skfold = StratifiedKFold(n_splits=10)\n",
    "scores= model_selection.cross_val_score(pipeline, prep_data_train, y_train, cv=skfold, scoring='f1_macro')\n",
    "\n",
    "print(\"F1: %.2f%%\" % (scores.mean()*100.0))\n",
    "\n",
    "print('F1: {}'.format(scores))\n",
    "\n",
    "print('F1: {0: .3f} +/- {1: .3f}'.format(np.mean(scores),\n",
    "                                          np.std(scores)))"
   ]
  },
  {
   "cell_type": "markdown",
   "metadata": {},
   "source": [
    "### Evaluacion por matriz de confusion"
   ]
  },
  {
   "cell_type": "code",
   "execution_count": 247,
   "metadata": {},
   "outputs": [
    {
     "data": {
      "image/png": "[encoded data removed]",
      "text/plain": [
       "<Figure size 432x288 with 1 Axes>"
      ]
     },
     "metadata": {
      "needs_background": "light"
     },
     "output_type": "display_data"
    }
   ],
   "source": [
    "labels = [0, 1]\n",
    "cm = confusion_matrix(y_test, test_result)\n",
    "ax= plt.subplot()\n",
    "sns.heatmap(cm, cmap=\"Blues\", annot=True, annot_kws={\"size\": 16}, cbar=False, fmt='g'); \n",
    "ax.set_xlabel('Predicción');ax.set_ylabel('Valores Reales'); \n",
    "ax.set_title('Confusion Matrix'); \n",
    "ax.xaxis.set_ticklabels(labels); ax.yaxis.set_ticklabels(labels);"
   ]
  },
  {
   "cell_type": "code",
   "execution_count": 194,
   "metadata": {},
   "outputs": [
    {
     "name": "stdout",
     "output_type": "stream",
     "text": [
      "              precision    recall  f1-score   support\n",
      "\n",
      "           0       0.84      0.85      0.84       165\n",
      "           1       0.75      0.74      0.75       103\n",
      "\n",
      "    accuracy                           0.81       268\n",
      "   macro avg       0.80      0.79      0.79       268\n",
      "weighted avg       0.81      0.81      0.81       268\n",
      "\n"
     ]
    }
   ],
   "source": [
    "print(classification_report(y_test, test_result))"
   ]
  },
  {
   "cell_type": "markdown",
   "metadata": {},
   "source": [
    "## Exportar prediccion"
   ]
  },
  {
   "cell_type": "code",
   "execution_count": 157,
   "metadata": {},
   "outputs": [
    {
     "name": "stdout",
     "output_type": "stream",
     "text": [
      "             Survived\n",
      "PassengerId          \n",
      "892                 0\n",
      "893                 0\n",
      "894                 0\n",
      "895                 1\n",
      "896                 1\n",
      "...               ...\n",
      "1305                0\n",
      "1306                1\n",
      "1307                0\n",
      "1308                0\n",
      "1309                1\n",
      "\n",
      "[418 rows x 1 columns]\n"
     ]
    }
   ],
   "source": [
    "result_df = pd.DataFrame(kaggle_result)\n",
    "result_df.index = data_test.PassengerId\n",
    "result_df.rename(columns={0: \"Survived\"}, inplace=True)\n",
    "print(result_df)\n",
    "result_df.to_csv(\"team_result.csv\")"
   ]
  }
 ],
 "metadata": {
  "kernelspec": {
   "display_name": "Python 3",
   "language": "python",
   "name": "python3"
  },
  "language_info": {
   "codemirror_mode": {
    "name": "ipython",
    "version": 3
   },
   "file_extension": ".py",
   "mimetype": "text/x-python",
   "name": "python",
   "nbconvert_exporter": "python",
   "pygments_lexer": "ipython3",
   "version": "3.7.6"
  }
 },
 "nbformat": 4,
 "nbformat_minor": 4
}
