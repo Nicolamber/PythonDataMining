{
 "cells": [
  {
   "cell_type": "code",
   "execution_count": 1,
   "metadata": {},
   "outputs": [],
   "source": [
    "import numpy as np\n",
    "import pandas as pd\n",
    "from sklearn import tree\n",
    "from sklearn.model_selection import train_test_split\n",
    "from sklearn import metrics\n",
    "\n",
    "from sklearn.metrics import confusion_matrix\n",
    "from sklearn.metrics import accuracy_score\n",
    "from sklearn.metrics import precision_score\n",
    "from sklearn.metrics import recall_score\n",
    "from sklearn.metrics import f1_score\n",
    "\n",
    "from sklearn.metrics import classification_report\n",
    "import matplotlib.pyplot as plt  \n",
    "import seaborn as sns\n",
    "\n",
    "from sklearn.metrics import cohen_kappa_score\n",
    "\n",
    "from sklearn import model_selection\n",
    "from sklearn.model_selection import KFold\n",
    "from sklearn.model_selection import LeaveOneOut\n",
    "from sklearn.model_selection import LeavePOut\n",
    "from sklearn.model_selection import ShuffleSplit\n",
    "from sklearn.model_selection import StratifiedKFold"
   ]
  },
  {
   "cell_type": "code",
   "execution_count": 2,
   "metadata": {},
   "outputs": [],
   "source": [
    "def indices_general (MC,nombres=None):\n",
    "    precision_global=np.sum(MC.diagonal())/np.sum(MC)\n",
    "    error_global=1-precision_global\n",
    "    \n",
    "    precision_categoria=pd.DataFrame(MC.diagonal()/np.sum(MC,axis=1)).T\n",
    "    if nombres!=None:\n",
    "        precision_categoria.columns=nombres\n",
    "    return {\"Matriz de Confusión\":MC,\n",
    "           \"Precision Global\":precision_global,\n",
    "           \"Error Global\":error_global,\n",
    "           \"Precisión por categoría\":precision_categoria}"
   ]
  },
  {
   "cell_type": "code",
   "execution_count": 3,
   "metadata": {},
   "outputs": [],
   "source": [
    "datos= pd.read_csv('data_muerte_coronaria/datos_train_test_sh.csv',delimiter=',',decimal='.')"
   ]
  },
  {
   "cell_type": "code",
   "execution_count": 4,
   "metadata": {},
   "outputs": [
    {
     "data": {
      "text/plain": [
       "(346, 11)"
      ]
     },
     "execution_count": 4,
     "metadata": {},
     "output_type": "execute_result"
    }
   ],
   "source": [
    "datos.shape"
   ]
  },
  {
   "cell_type": "code",
   "execution_count": 5,
   "metadata": {},
   "outputs": [
    {
     "data": {
      "text/html": [
       "<div>\n",
       "<style scoped>\n",
       "    .dataframe tbody tr th:only-of-type {\n",
       "        vertical-align: middle;\n",
       "    }\n",
       "\n",
       "    .dataframe tbody tr th {\n",
       "        vertical-align: top;\n",
       "    }\n",
       "\n",
       "    .dataframe thead th {\n",
       "        text-align: right;\n",
       "    }\n",
       "</style>\n",
       "<table border=\"1\" class=\"dataframe\">\n",
       "  <thead>\n",
       "    <tr style=\"text-align: right;\">\n",
       "      <th></th>\n",
       "      <th>id</th>\n",
       "      <th>sbp</th>\n",
       "      <th>tobacco</th>\n",
       "      <th>ldl</th>\n",
       "      <th>adiposity</th>\n",
       "      <th>famhist</th>\n",
       "      <th>typea</th>\n",
       "      <th>obesity</th>\n",
       "      <th>alcohol</th>\n",
       "      <th>age</th>\n",
       "      <th>class</th>\n",
       "    </tr>\n",
       "  </thead>\n",
       "  <tbody>\n",
       "    <tr>\n",
       "      <th>0</th>\n",
       "      <td>0</td>\n",
       "      <td>154</td>\n",
       "      <td>4.50</td>\n",
       "      <td>4.75</td>\n",
       "      <td>23.52</td>\n",
       "      <td>Present</td>\n",
       "      <td>43</td>\n",
       "      <td>25.76</td>\n",
       "      <td>0.0</td>\n",
       "      <td>53</td>\n",
       "      <td>1</td>\n",
       "    </tr>\n",
       "    <tr>\n",
       "      <th>1</th>\n",
       "      <td>1</td>\n",
       "      <td>124</td>\n",
       "      <td>1.04</td>\n",
       "      <td>2.84</td>\n",
       "      <td>16.42</td>\n",
       "      <td>Present</td>\n",
       "      <td>46</td>\n",
       "      <td>20.17</td>\n",
       "      <td>0.0</td>\n",
       "      <td>61</td>\n",
       "      <td>0</td>\n",
       "    </tr>\n",
       "  </tbody>\n",
       "</table>\n",
       "</div>"
      ],
      "text/plain": [
       "   id  sbp  tobacco   ldl  adiposity  famhist  typea  obesity  alcohol  age  \\\n",
       "0   0  154     4.50  4.75      23.52  Present     43    25.76      0.0   53   \n",
       "1   1  124     1.04  2.84      16.42  Present     46    20.17      0.0   61   \n",
       "\n",
       "   class  \n",
       "0      1  \n",
       "1      0  "
      ]
     },
     "execution_count": 5,
     "metadata": {},
     "output_type": "execute_result"
    }
   ],
   "source": [
    "datos.head(2)"
   ]
  },
  {
   "cell_type": "code",
   "execution_count": 6,
   "metadata": {},
   "outputs": [
    {
     "data": {
      "text/html": [
       "<div>\n",
       "<style scoped>\n",
       "    .dataframe tbody tr th:only-of-type {\n",
       "        vertical-align: middle;\n",
       "    }\n",
       "\n",
       "    .dataframe tbody tr th {\n",
       "        vertical-align: top;\n",
       "    }\n",
       "\n",
       "    .dataframe thead th {\n",
       "        text-align: right;\n",
       "    }\n",
       "</style>\n",
       "<table border=\"1\" class=\"dataframe\">\n",
       "  <thead>\n",
       "    <tr style=\"text-align: right;\">\n",
       "      <th></th>\n",
       "      <th>sbp</th>\n",
       "      <th>tobacco</th>\n",
       "      <th>ldl</th>\n",
       "      <th>adiposity</th>\n",
       "      <th>famhist</th>\n",
       "      <th>typea</th>\n",
       "      <th>obesity</th>\n",
       "      <th>alcohol</th>\n",
       "      <th>age</th>\n",
       "      <th>class</th>\n",
       "    </tr>\n",
       "  </thead>\n",
       "  <tbody>\n",
       "    <tr>\n",
       "      <th>0</th>\n",
       "      <td>154</td>\n",
       "      <td>4.50</td>\n",
       "      <td>4.75</td>\n",
       "      <td>23.52</td>\n",
       "      <td>Present</td>\n",
       "      <td>43</td>\n",
       "      <td>25.76</td>\n",
       "      <td>0.0</td>\n",
       "      <td>53</td>\n",
       "      <td>1</td>\n",
       "    </tr>\n",
       "    <tr>\n",
       "      <th>1</th>\n",
       "      <td>124</td>\n",
       "      <td>1.04</td>\n",
       "      <td>2.84</td>\n",
       "      <td>16.42</td>\n",
       "      <td>Present</td>\n",
       "      <td>46</td>\n",
       "      <td>20.17</td>\n",
       "      <td>0.0</td>\n",
       "      <td>61</td>\n",
       "      <td>0</td>\n",
       "    </tr>\n",
       "    <tr>\n",
       "      <th>2</th>\n",
       "      <td>148</td>\n",
       "      <td>12.20</td>\n",
       "      <td>3.79</td>\n",
       "      <td>34.15</td>\n",
       "      <td>Absent</td>\n",
       "      <td>57</td>\n",
       "      <td>26.38</td>\n",
       "      <td>14.4</td>\n",
       "      <td>57</td>\n",
       "      <td>1</td>\n",
       "    </tr>\n",
       "  </tbody>\n",
       "</table>\n",
       "</div>"
      ],
      "text/plain": [
       "   sbp  tobacco   ldl  adiposity  famhist  typea  obesity  alcohol  age  class\n",
       "0  154     4.50  4.75      23.52  Present     43    25.76      0.0   53      1\n",
       "1  124     1.04  2.84      16.42  Present     46    20.17      0.0   61      0\n",
       "2  148    12.20  3.79      34.15   Absent     57    26.38     14.4   57      1"
      ]
     },
     "execution_count": 6,
     "metadata": {},
     "output_type": "execute_result"
    }
   ],
   "source": [
    "datos=datos.iloc[0:,1:]\n",
    "datos.head(3)"
   ]
  },
  {
   "cell_type": "code",
   "execution_count": 7,
   "metadata": {},
   "outputs": [
    {
     "data": {
      "text/html": [
       "<div>\n",
       "<style scoped>\n",
       "    .dataframe tbody tr th:only-of-type {\n",
       "        vertical-align: middle;\n",
       "    }\n",
       "\n",
       "    .dataframe tbody tr th {\n",
       "        vertical-align: top;\n",
       "    }\n",
       "\n",
       "    .dataframe thead th {\n",
       "        text-align: right;\n",
       "    }\n",
       "</style>\n",
       "<table border=\"1\" class=\"dataframe\">\n",
       "  <thead>\n",
       "    <tr style=\"text-align: right;\">\n",
       "      <th></th>\n",
       "      <th>sbp</th>\n",
       "      <th>tobacco</th>\n",
       "      <th>ldl</th>\n",
       "      <th>adiposity</th>\n",
       "      <th>famhist</th>\n",
       "      <th>typea</th>\n",
       "      <th>obesity</th>\n",
       "      <th>alcohol</th>\n",
       "      <th>age</th>\n",
       "      <th>class</th>\n",
       "    </tr>\n",
       "  </thead>\n",
       "  <tbody>\n",
       "    <tr>\n",
       "      <th>0</th>\n",
       "      <td>154</td>\n",
       "      <td>4.50</td>\n",
       "      <td>4.75</td>\n",
       "      <td>23.52</td>\n",
       "      <td>1</td>\n",
       "      <td>43</td>\n",
       "      <td>25.76</td>\n",
       "      <td>0.00</td>\n",
       "      <td>53</td>\n",
       "      <td>1</td>\n",
       "    </tr>\n",
       "    <tr>\n",
       "      <th>1</th>\n",
       "      <td>124</td>\n",
       "      <td>1.04</td>\n",
       "      <td>2.84</td>\n",
       "      <td>16.42</td>\n",
       "      <td>1</td>\n",
       "      <td>46</td>\n",
       "      <td>20.17</td>\n",
       "      <td>0.00</td>\n",
       "      <td>61</td>\n",
       "      <td>0</td>\n",
       "    </tr>\n",
       "    <tr>\n",
       "      <th>2</th>\n",
       "      <td>148</td>\n",
       "      <td>12.20</td>\n",
       "      <td>3.79</td>\n",
       "      <td>34.15</td>\n",
       "      <td>0</td>\n",
       "      <td>57</td>\n",
       "      <td>26.38</td>\n",
       "      <td>14.40</td>\n",
       "      <td>57</td>\n",
       "      <td>1</td>\n",
       "    </tr>\n",
       "    <tr>\n",
       "      <th>3</th>\n",
       "      <td>110</td>\n",
       "      <td>4.64</td>\n",
       "      <td>4.55</td>\n",
       "      <td>30.46</td>\n",
       "      <td>0</td>\n",
       "      <td>48</td>\n",
       "      <td>30.90</td>\n",
       "      <td>15.22</td>\n",
       "      <td>46</td>\n",
       "      <td>0</td>\n",
       "    </tr>\n",
       "    <tr>\n",
       "      <th>4</th>\n",
       "      <td>164</td>\n",
       "      <td>0.50</td>\n",
       "      <td>6.95</td>\n",
       "      <td>39.64</td>\n",
       "      <td>1</td>\n",
       "      <td>47</td>\n",
       "      <td>41.76</td>\n",
       "      <td>3.81</td>\n",
       "      <td>46</td>\n",
       "      <td>1</td>\n",
       "    </tr>\n",
       "    <tr>\n",
       "      <th>...</th>\n",
       "      <td>...</td>\n",
       "      <td>...</td>\n",
       "      <td>...</td>\n",
       "      <td>...</td>\n",
       "      <td>...</td>\n",
       "      <td>...</td>\n",
       "      <td>...</td>\n",
       "      <td>...</td>\n",
       "      <td>...</td>\n",
       "      <td>...</td>\n",
       "    </tr>\n",
       "    <tr>\n",
       "      <th>341</th>\n",
       "      <td>158</td>\n",
       "      <td>13.50</td>\n",
       "      <td>5.04</td>\n",
       "      <td>30.79</td>\n",
       "      <td>0</td>\n",
       "      <td>54</td>\n",
       "      <td>24.79</td>\n",
       "      <td>21.50</td>\n",
       "      <td>62</td>\n",
       "      <td>0</td>\n",
       "    </tr>\n",
       "    <tr>\n",
       "      <th>342</th>\n",
       "      <td>138</td>\n",
       "      <td>2.00</td>\n",
       "      <td>5.11</td>\n",
       "      <td>31.40</td>\n",
       "      <td>1</td>\n",
       "      <td>49</td>\n",
       "      <td>27.25</td>\n",
       "      <td>2.06</td>\n",
       "      <td>64</td>\n",
       "      <td>1</td>\n",
       "    </tr>\n",
       "    <tr>\n",
       "      <th>343</th>\n",
       "      <td>130</td>\n",
       "      <td>0.00</td>\n",
       "      <td>4.89</td>\n",
       "      <td>25.98</td>\n",
       "      <td>0</td>\n",
       "      <td>72</td>\n",
       "      <td>30.42</td>\n",
       "      <td>14.71</td>\n",
       "      <td>23</td>\n",
       "      <td>0</td>\n",
       "    </tr>\n",
       "    <tr>\n",
       "      <th>344</th>\n",
       "      <td>174</td>\n",
       "      <td>9.45</td>\n",
       "      <td>5.13</td>\n",
       "      <td>35.54</td>\n",
       "      <td>0</td>\n",
       "      <td>55</td>\n",
       "      <td>30.71</td>\n",
       "      <td>59.79</td>\n",
       "      <td>53</td>\n",
       "      <td>0</td>\n",
       "    </tr>\n",
       "    <tr>\n",
       "      <th>345</th>\n",
       "      <td>132</td>\n",
       "      <td>0.00</td>\n",
       "      <td>1.87</td>\n",
       "      <td>17.21</td>\n",
       "      <td>0</td>\n",
       "      <td>49</td>\n",
       "      <td>23.63</td>\n",
       "      <td>0.97</td>\n",
       "      <td>15</td>\n",
       "      <td>0</td>\n",
       "    </tr>\n",
       "  </tbody>\n",
       "</table>\n",
       "<p>346 rows × 10 columns</p>\n",
       "</div>"
      ],
      "text/plain": [
       "     sbp  tobacco   ldl  adiposity  famhist  typea  obesity  alcohol  age  \\\n",
       "0    154     4.50  4.75      23.52        1     43    25.76     0.00   53   \n",
       "1    124     1.04  2.84      16.42        1     46    20.17     0.00   61   \n",
       "2    148    12.20  3.79      34.15        0     57    26.38    14.40   57   \n",
       "3    110     4.64  4.55      30.46        0     48    30.90    15.22   46   \n",
       "4    164     0.50  6.95      39.64        1     47    41.76     3.81   46   \n",
       "..   ...      ...   ...        ...      ...    ...      ...      ...  ...   \n",
       "341  158    13.50  5.04      30.79        0     54    24.79    21.50   62   \n",
       "342  138     2.00  5.11      31.40        1     49    27.25     2.06   64   \n",
       "343  130     0.00  4.89      25.98        0     72    30.42    14.71   23   \n",
       "344  174     9.45  5.13      35.54        0     55    30.71    59.79   53   \n",
       "345  132     0.00  1.87      17.21        0     49    23.63     0.97   15   \n",
       "\n",
       "     class  \n",
       "0        1  \n",
       "1        0  \n",
       "2        1  \n",
       "3        0  \n",
       "4        1  \n",
       "..     ...  \n",
       "341      0  \n",
       "342      1  \n",
       "343      0  \n",
       "344      0  \n",
       "345      0  \n",
       "\n",
       "[346 rows x 10 columns]"
      ]
     },
     "execution_count": 7,
     "metadata": {},
     "output_type": "execute_result"
    }
   ],
   "source": [
    "datos2 = datos.replace({\"Present\":1,\"Absent\":0})\n",
    "datos2"
   ]
  },
  {
   "cell_type": "code",
   "execution_count": 8,
   "metadata": {},
   "outputs": [
    {
     "data": {
      "text/html": [
       "<div>\n",
       "<style scoped>\n",
       "    .dataframe tbody tr th:only-of-type {\n",
       "        vertical-align: middle;\n",
       "    }\n",
       "\n",
       "    .dataframe tbody tr th {\n",
       "        vertical-align: top;\n",
       "    }\n",
       "\n",
       "    .dataframe thead th {\n",
       "        text-align: right;\n",
       "    }\n",
       "</style>\n",
       "<table border=\"1\" class=\"dataframe\">\n",
       "  <thead>\n",
       "    <tr style=\"text-align: right;\">\n",
       "      <th></th>\n",
       "      <th>sbp</th>\n",
       "      <th>tobacco</th>\n",
       "      <th>ldl</th>\n",
       "      <th>adiposity</th>\n",
       "      <th>famhist</th>\n",
       "      <th>typea</th>\n",
       "      <th>obesity</th>\n",
       "      <th>alcohol</th>\n",
       "      <th>age</th>\n",
       "    </tr>\n",
       "  </thead>\n",
       "  <tbody>\n",
       "    <tr>\n",
       "      <th>0</th>\n",
       "      <td>154</td>\n",
       "      <td>4.50</td>\n",
       "      <td>4.75</td>\n",
       "      <td>23.52</td>\n",
       "      <td>1</td>\n",
       "      <td>43</td>\n",
       "      <td>25.76</td>\n",
       "      <td>0.00</td>\n",
       "      <td>53</td>\n",
       "    </tr>\n",
       "    <tr>\n",
       "      <th>1</th>\n",
       "      <td>124</td>\n",
       "      <td>1.04</td>\n",
       "      <td>2.84</td>\n",
       "      <td>16.42</td>\n",
       "      <td>1</td>\n",
       "      <td>46</td>\n",
       "      <td>20.17</td>\n",
       "      <td>0.00</td>\n",
       "      <td>61</td>\n",
       "    </tr>\n",
       "    <tr>\n",
       "      <th>2</th>\n",
       "      <td>148</td>\n",
       "      <td>12.20</td>\n",
       "      <td>3.79</td>\n",
       "      <td>34.15</td>\n",
       "      <td>0</td>\n",
       "      <td>57</td>\n",
       "      <td>26.38</td>\n",
       "      <td>14.40</td>\n",
       "      <td>57</td>\n",
       "    </tr>\n",
       "    <tr>\n",
       "      <th>3</th>\n",
       "      <td>110</td>\n",
       "      <td>4.64</td>\n",
       "      <td>4.55</td>\n",
       "      <td>30.46</td>\n",
       "      <td>0</td>\n",
       "      <td>48</td>\n",
       "      <td>30.90</td>\n",
       "      <td>15.22</td>\n",
       "      <td>46</td>\n",
       "    </tr>\n",
       "  </tbody>\n",
       "</table>\n",
       "</div>"
      ],
      "text/plain": [
       "   sbp  tobacco   ldl  adiposity  famhist  typea  obesity  alcohol  age\n",
       "0  154     4.50  4.75      23.52        1     43    25.76     0.00   53\n",
       "1  124     1.04  2.84      16.42        1     46    20.17     0.00   61\n",
       "2  148    12.20  3.79      34.15        0     57    26.38    14.40   57\n",
       "3  110     4.64  4.55      30.46        0     48    30.90    15.22   46"
      ]
     },
     "execution_count": 8,
     "metadata": {},
     "output_type": "execute_result"
    }
   ],
   "source": [
    "X=datos2.iloc[:,0:9]\n",
    "X.head(4)"
   ]
  },
  {
   "cell_type": "code",
   "execution_count": 9,
   "metadata": {},
   "outputs": [
    {
     "data": {
      "text/html": [
       "<div>\n",
       "<style scoped>\n",
       "    .dataframe tbody tr th:only-of-type {\n",
       "        vertical-align: middle;\n",
       "    }\n",
       "\n",
       "    .dataframe tbody tr th {\n",
       "        vertical-align: top;\n",
       "    }\n",
       "\n",
       "    .dataframe thead th {\n",
       "        text-align: right;\n",
       "    }\n",
       "</style>\n",
       "<table border=\"1\" class=\"dataframe\">\n",
       "  <thead>\n",
       "    <tr style=\"text-align: right;\">\n",
       "      <th></th>\n",
       "      <th>class</th>\n",
       "    </tr>\n",
       "  </thead>\n",
       "  <tbody>\n",
       "    <tr>\n",
       "      <th>0</th>\n",
       "      <td>1</td>\n",
       "    </tr>\n",
       "    <tr>\n",
       "      <th>1</th>\n",
       "      <td>0</td>\n",
       "    </tr>\n",
       "    <tr>\n",
       "      <th>2</th>\n",
       "      <td>1</td>\n",
       "    </tr>\n",
       "    <tr>\n",
       "      <th>3</th>\n",
       "      <td>0</td>\n",
       "    </tr>\n",
       "  </tbody>\n",
       "</table>\n",
       "</div>"
      ],
      "text/plain": [
       "   class\n",
       "0      1\n",
       "1      0\n",
       "2      1\n",
       "3      0"
      ]
     },
     "execution_count": 9,
     "metadata": {},
     "output_type": "execute_result"
    }
   ],
   "source": [
    "y=datos2.iloc[:,9:10]\n",
    "y.head(4)"
   ]
  },
  {
   "cell_type": "code",
   "execution_count": 10,
   "metadata": {},
   "outputs": [],
   "source": [
    "X_train, X_test, y_train, y_test = train_test_split(X, y,test_size=0.05,random_state=50)"
   ]
  },
  {
   "cell_type": "code",
   "execution_count": 11,
   "metadata": {},
   "outputs": [],
   "source": [
    "from sklearn.ensemble import RandomForestClassifier"
   ]
  },
  {
   "cell_type": "code",
   "execution_count": 12,
   "metadata": {},
   "outputs": [],
   "source": [
    "modelo=RandomForestClassifier(n_estimators=5000,random_state=1, max_depth=15,min_samples_split=18)"
   ]
  },
  {
   "cell_type": "code",
   "execution_count": 13,
   "metadata": {},
   "outputs": [
    {
     "data": {
      "text/plain": [
       "RandomForestClassifier(bootstrap=True, ccp_alpha=0.0, class_weight=None,\n",
       "                       criterion='gini', max_depth=15, max_features='auto',\n",
       "                       max_leaf_nodes=None, max_samples=None,\n",
       "                       min_impurity_decrease=0.0, min_impurity_split=None,\n",
       "                       min_samples_leaf=1, min_samples_split=18,\n",
       "                       min_weight_fraction_leaf=0.0, n_estimators=5000,\n",
       "                       n_jobs=None, oob_score=False, random_state=1, verbose=0,\n",
       "                       warm_start=False)"
      ]
     },
     "execution_count": 13,
     "metadata": {},
     "output_type": "execute_result"
    }
   ],
   "source": [
    "modelo.fit(X_train,np.ravel(np.array(y_train)))"
   ]
  },
  {
   "cell_type": "code",
   "execution_count": 14,
   "metadata": {},
   "outputs": [],
   "source": [
    "y_pred=modelo.predict(X_test)"
   ]
  },
  {
   "cell_type": "code",
   "execution_count": 15,
   "metadata": {},
   "outputs": [
    {
     "data": {
      "text/html": [
       "<div>\n",
       "<style scoped>\n",
       "    .dataframe tbody tr th:only-of-type {\n",
       "        vertical-align: middle;\n",
       "    }\n",
       "\n",
       "    .dataframe tbody tr th {\n",
       "        vertical-align: top;\n",
       "    }\n",
       "\n",
       "    .dataframe thead th {\n",
       "        text-align: right;\n",
       "    }\n",
       "</style>\n",
       "<table border=\"1\" class=\"dataframe\">\n",
       "  <thead>\n",
       "    <tr style=\"text-align: right;\">\n",
       "      <th></th>\n",
       "      <th>0</th>\n",
       "    </tr>\n",
       "  </thead>\n",
       "  <tbody>\n",
       "    <tr>\n",
       "      <th>0</th>\n",
       "      <td>1</td>\n",
       "    </tr>\n",
       "    <tr>\n",
       "      <th>1</th>\n",
       "      <td>0</td>\n",
       "    </tr>\n",
       "  </tbody>\n",
       "</table>\n",
       "</div>"
      ],
      "text/plain": [
       "   0\n",
       "0  1\n",
       "1  0"
      ]
     },
     "execution_count": 15,
     "metadata": {},
     "output_type": "execute_result"
    }
   ],
   "source": [
    "pd.DataFrame(y_pred).head(2)"
   ]
  },
  {
   "cell_type": "code",
   "execution_count": 16,
   "metadata": {
    "scrolled": true
   },
   "outputs": [
    {
     "name": "stdout",
     "output_type": "stream",
     "text": [
      "\n",
      "Matriz de Confusión:\n",
      "[[11  2]\n",
      " [ 0  5]]\n",
      "\n",
      "Precision Global:\n",
      "0.8888888888888888\n",
      "\n",
      "Error Global:\n",
      "0.11111111111111116\n",
      "\n",
      "Precisión por categoría:\n",
      "          0    1\n",
      "0  0.846154  1.0\n"
     ]
    }
   ],
   "source": [
    "indices=indices_general(metrics.confusion_matrix(y_test,y_pred))\n",
    "for k in indices:\n",
    "    print(\"\\n%s:\\n%s\"%(k,str(indices[k])))"
   ]
  },
  {
   "cell_type": "code",
   "execution_count": 17,
   "metadata": {},
   "outputs": [
    {
     "name": "stdout",
     "output_type": "stream",
     "text": [
      "0.8888888888888888\n",
      "0.9230769230769231\n",
      "0.8571428571428572\n",
      "0.875\n",
      "              precision    recall  f1-score   support\n",
      "\n",
      "           0       1.00      0.85      0.92        13\n",
      "           1       0.71      1.00      0.83         5\n",
      "\n",
      "    accuracy                           0.89        18\n",
      "   macro avg       0.86      0.92      0.88        18\n",
      "weighted avg       0.92      0.89      0.89        18\n",
      "\n"
     ]
    }
   ],
   "source": [
    "#\n",
    "print(accuracy_score(y_test, y_pred))\n",
    "#\n",
    "print(recall_score(y_test, y_pred, average='macro'))\n",
    "#\n",
    "print(precision_score(y_test, y_pred, average='macro'))\n",
    "#\n",
    "print(f1_score(y_test, y_pred, average='macro'))\n",
    "#\n",
    "print(classification_report(y_test, y_pred))"
   ]
  },
  {
   "cell_type": "code",
   "execution_count": 18,
   "metadata": {},
   "outputs": [
    {
     "data": {
      "text/plain": [
       "0.7534246575342466"
      ]
     },
     "execution_count": 18,
     "metadata": {},
     "output_type": "execute_result"
    }
   ],
   "source": [
    "cohen_kappa_score(y_test,y_pred)"
   ]
  },
  {
   "cell_type": "code",
   "execution_count": 19,
   "metadata": {},
   "outputs": [],
   "source": [
    "from sklearn.preprocessing import LabelEncoder\n",
    "lb_make = LabelEncoder()\n",
    "y_test1 = lb_make.fit_transform(np.ravel(np.array(y_test)))\n",
    "\n",
    "from sklearn.preprocessing import LabelEncoder\n",
    "lb_make = LabelEncoder()\n",
    "y1 = lb_make.fit_transform(np.ravel(np.array(y)))"
   ]
  },
  {
   "cell_type": "code",
   "execution_count": 20,
   "metadata": {},
   "outputs": [],
   "source": [
    "from sklearn.metrics import roc_curve, auc\n",
    "import matplotlib.pyplot as plt\n",
    "plt.style.use('ggplot')\n",
    "%matplotlib inline"
   ]
  },
  {
   "cell_type": "code",
   "execution_count": 21,
   "metadata": {},
   "outputs": [],
   "source": [
    "y_predict_probabilities = modelo.predict_proba(X_test)[:,1]\n",
    "fpr, tpr, _ = roc_curve(y_test1, y_predict_probabilities)\n",
    "roc_auc = auc(fpr, tpr)"
   ]
  },
  {
   "cell_type": "code",
   "execution_count": 22,
   "metadata": {},
   "outputs": [
    {
     "data": {
      "text/plain": [
       "0.9384615384615385"
      ]
     },
     "execution_count": 22,
     "metadata": {},
     "output_type": "execute_result"
    }
   ],
   "source": [
    "roc_auc"
   ]
  },
  {
   "cell_type": "code",
   "execution_count": 23,
   "metadata": {},
   "outputs": [
    {
     "data": {
      "image/png": "[encoded data removed]",
      "text/plain": [
       "<Figure size 432x288 with 1 Axes>"
      ]
     },
     "metadata": {
      "needs_background": "light"
     },
     "output_type": "display_data"
    }
   ],
   "source": [
    "plt.figure()\n",
    "plt.plot(fpr, tpr, color='darkorange',\n",
    "         lw=2, label='ROC curve (area = %0.2f)' % roc_auc)\n",
    "plt.plot([0, 1], [0, 1], color='navy', lw=2, linestyle='--')\n",
    "plt.xlim([0.0, 1.0])\n",
    "plt.ylim([0.0, 1.05])\n",
    "plt.xlabel('False Positive Rate')\n",
    "plt.ylabel('True Positive Rate')\n",
    "plt.title('ROC Curve')\n",
    "plt.legend(loc=\"lower right\")\n",
    "plt.show()"
   ]
  },
  {
   "cell_type": "code",
   "execution_count": 24,
   "metadata": {},
   "outputs": [
    {
     "data": {
      "text/plain": [
       "array([0.08932919, 0.1955328 , 0.13660707, 0.10958929, 0.05281624,\n",
       "       0.08045062, 0.08176269, 0.05880074, 0.19511137])"
      ]
     },
     "execution_count": 24,
     "metadata": {},
     "output_type": "execute_result"
    }
   ],
   "source": [
    "importancia=modelo.feature_importances_\n",
    "importancia"
   ]
  },
  {
   "cell_type": "code",
   "execution_count": 25,
   "metadata": {},
   "outputs": [],
   "source": [
    "import matplotlib.pyplot as plt"
   ]
  },
  {
   "cell_type": "code",
   "execution_count": 26,
   "metadata": {},
   "outputs": [
    {
     "data": {
      "text/plain": [
       "<function matplotlib.pyplot.close(fig=None)>"
      ]
     },
     "execution_count": 26,
     "metadata": {},
     "output_type": "execute_result"
    },
    {
     "data": {
      "image/png": "[encoded data removed]",
      "text/plain": [
       "<Figure size 432x288 with 1 Axes>"
      ]
     },
     "metadata": {
      "needs_background": "light"
     },
     "output_type": "display_data"
    }
   ],
   "source": [
    "etiquetas=X_train.columns.values\n",
    "y_pos=np.arange(len(etiquetas))\n",
    "plt.barh(y_pos,importancia,align=\"center\",alpha=0.5)\n",
    "plt.yticks(y_pos,etiquetas)\n",
    "plt.close"
   ]
  },
  {
   "cell_type": "markdown",
   "metadata": {},
   "source": [
    "*Importar datos nuevos a predecir*"
   ]
  },
  {
   "cell_type": "code",
   "execution_count": 27,
   "metadata": {},
   "outputs": [],
   "source": [
    "datos_nuevas_instancias= pd.read_csv('data_muerte_coronaria/nuevas_instancias_a_predecir.csv',delimiter=';',decimal='.')"
   ]
  },
  {
   "cell_type": "code",
   "execution_count": 28,
   "metadata": {},
   "outputs": [
    {
     "data": {
      "text/plain": [
       "(116, 10)"
      ]
     },
     "execution_count": 28,
     "metadata": {},
     "output_type": "execute_result"
    }
   ],
   "source": [
    "datos_nuevas_instancias.shape"
   ]
  },
  {
   "cell_type": "code",
   "execution_count": 29,
   "metadata": {},
   "outputs": [
    {
     "data": {
      "text/html": [
       "<div>\n",
       "<style scoped>\n",
       "    .dataframe tbody tr th:only-of-type {\n",
       "        vertical-align: middle;\n",
       "    }\n",
       "\n",
       "    .dataframe tbody tr th {\n",
       "        vertical-align: top;\n",
       "    }\n",
       "\n",
       "    .dataframe thead th {\n",
       "        text-align: right;\n",
       "    }\n",
       "</style>\n",
       "<table border=\"1\" class=\"dataframe\">\n",
       "  <thead>\n",
       "    <tr style=\"text-align: right;\">\n",
       "      <th></th>\n",
       "      <th>id</th>\n",
       "      <th>sbp</th>\n",
       "      <th>tobacco</th>\n",
       "      <th>ldl</th>\n",
       "      <th>adiposity</th>\n",
       "      <th>famhist</th>\n",
       "      <th>typea</th>\n",
       "      <th>obesity</th>\n",
       "      <th>alcohol</th>\n",
       "      <th>age</th>\n",
       "    </tr>\n",
       "  </thead>\n",
       "  <tbody>\n",
       "    <tr>\n",
       "      <th>0</th>\n",
       "      <td>1</td>\n",
       "      <td>132</td>\n",
       "      <td>0.00</td>\n",
       "      <td>4.17</td>\n",
       "      <td>36.57</td>\n",
       "      <td>Absent</td>\n",
       "      <td>57</td>\n",
       "      <td>30.61</td>\n",
       "      <td>18.00</td>\n",
       "      <td>49</td>\n",
       "    </tr>\n",
       "    <tr>\n",
       "      <th>1</th>\n",
       "      <td>2</td>\n",
       "      <td>124</td>\n",
       "      <td>1.80</td>\n",
       "      <td>3.74</td>\n",
       "      <td>16.64</td>\n",
       "      <td>Present</td>\n",
       "      <td>42</td>\n",
       "      <td>22.26</td>\n",
       "      <td>10.49</td>\n",
       "      <td>20</td>\n",
       "    </tr>\n",
       "    <tr>\n",
       "      <th>2</th>\n",
       "      <td>3</td>\n",
       "      <td>198</td>\n",
       "      <td>0.52</td>\n",
       "      <td>11.89</td>\n",
       "      <td>27.68</td>\n",
       "      <td>Present</td>\n",
       "      <td>48</td>\n",
       "      <td>28.40</td>\n",
       "      <td>78.99</td>\n",
       "      <td>26</td>\n",
       "    </tr>\n",
       "    <tr>\n",
       "      <th>3</th>\n",
       "      <td>4</td>\n",
       "      <td>128</td>\n",
       "      <td>2.24</td>\n",
       "      <td>2.83</td>\n",
       "      <td>26.48</td>\n",
       "      <td>Absent</td>\n",
       "      <td>48</td>\n",
       "      <td>23.96</td>\n",
       "      <td>47.42</td>\n",
       "      <td>27</td>\n",
       "    </tr>\n",
       "    <tr>\n",
       "      <th>4</th>\n",
       "      <td>5</td>\n",
       "      <td>128</td>\n",
       "      <td>2.60</td>\n",
       "      <td>4.94</td>\n",
       "      <td>21.36</td>\n",
       "      <td>Absent</td>\n",
       "      <td>61</td>\n",
       "      <td>21.30</td>\n",
       "      <td>0.00</td>\n",
       "      <td>31</td>\n",
       "    </tr>\n",
       "  </tbody>\n",
       "</table>\n",
       "</div>"
      ],
      "text/plain": [
       "   id  sbp  tobacco    ldl  adiposity  famhist  typea  obesity  alcohol  age\n",
       "0   1  132     0.00   4.17      36.57   Absent     57    30.61    18.00   49\n",
       "1   2  124     1.80   3.74      16.64  Present     42    22.26    10.49   20\n",
       "2   3  198     0.52  11.89      27.68  Present     48    28.40    78.99   26\n",
       "3   4  128     2.24   2.83      26.48   Absent     48    23.96    47.42   27\n",
       "4   5  128     2.60   4.94      21.36   Absent     61    21.30     0.00   31"
      ]
     },
     "execution_count": 29,
     "metadata": {},
     "output_type": "execute_result"
    }
   ],
   "source": [
    "datos_nuevas_instancias.head(5)"
   ]
  },
  {
   "cell_type": "code",
   "execution_count": 30,
   "metadata": {},
   "outputs": [
    {
     "data": {
      "text/html": [
       "<div>\n",
       "<style scoped>\n",
       "    .dataframe tbody tr th:only-of-type {\n",
       "        vertical-align: middle;\n",
       "    }\n",
       "\n",
       "    .dataframe tbody tr th {\n",
       "        vertical-align: top;\n",
       "    }\n",
       "\n",
       "    .dataframe thead th {\n",
       "        text-align: right;\n",
       "    }\n",
       "</style>\n",
       "<table border=\"1\" class=\"dataframe\">\n",
       "  <thead>\n",
       "    <tr style=\"text-align: right;\">\n",
       "      <th></th>\n",
       "      <th>id</th>\n",
       "      <th>sbp</th>\n",
       "      <th>tobacco</th>\n",
       "      <th>ldl</th>\n",
       "      <th>adiposity</th>\n",
       "      <th>famhist</th>\n",
       "      <th>typea</th>\n",
       "      <th>obesity</th>\n",
       "      <th>alcohol</th>\n",
       "      <th>age</th>\n",
       "    </tr>\n",
       "  </thead>\n",
       "  <tbody>\n",
       "    <tr>\n",
       "      <th>0</th>\n",
       "      <td>1</td>\n",
       "      <td>132</td>\n",
       "      <td>0.00</td>\n",
       "      <td>4.17</td>\n",
       "      <td>36.57</td>\n",
       "      <td>0</td>\n",
       "      <td>57</td>\n",
       "      <td>30.61</td>\n",
       "      <td>18.00</td>\n",
       "      <td>49</td>\n",
       "    </tr>\n",
       "    <tr>\n",
       "      <th>1</th>\n",
       "      <td>2</td>\n",
       "      <td>124</td>\n",
       "      <td>1.80</td>\n",
       "      <td>3.74</td>\n",
       "      <td>16.64</td>\n",
       "      <td>1</td>\n",
       "      <td>42</td>\n",
       "      <td>22.26</td>\n",
       "      <td>10.49</td>\n",
       "      <td>20</td>\n",
       "    </tr>\n",
       "    <tr>\n",
       "      <th>2</th>\n",
       "      <td>3</td>\n",
       "      <td>198</td>\n",
       "      <td>0.52</td>\n",
       "      <td>11.89</td>\n",
       "      <td>27.68</td>\n",
       "      <td>1</td>\n",
       "      <td>48</td>\n",
       "      <td>28.40</td>\n",
       "      <td>78.99</td>\n",
       "      <td>26</td>\n",
       "    </tr>\n",
       "    <tr>\n",
       "      <th>3</th>\n",
       "      <td>4</td>\n",
       "      <td>128</td>\n",
       "      <td>2.24</td>\n",
       "      <td>2.83</td>\n",
       "      <td>26.48</td>\n",
       "      <td>0</td>\n",
       "      <td>48</td>\n",
       "      <td>23.96</td>\n",
       "      <td>47.42</td>\n",
       "      <td>27</td>\n",
       "    </tr>\n",
       "    <tr>\n",
       "      <th>4</th>\n",
       "      <td>5</td>\n",
       "      <td>128</td>\n",
       "      <td>2.60</td>\n",
       "      <td>4.94</td>\n",
       "      <td>21.36</td>\n",
       "      <td>0</td>\n",
       "      <td>61</td>\n",
       "      <td>21.30</td>\n",
       "      <td>0.00</td>\n",
       "      <td>31</td>\n",
       "    </tr>\n",
       "    <tr>\n",
       "      <th>...</th>\n",
       "      <td>...</td>\n",
       "      <td>...</td>\n",
       "      <td>...</td>\n",
       "      <td>...</td>\n",
       "      <td>...</td>\n",
       "      <td>...</td>\n",
       "      <td>...</td>\n",
       "      <td>...</td>\n",
       "      <td>...</td>\n",
       "      <td>...</td>\n",
       "    </tr>\n",
       "    <tr>\n",
       "      <th>111</th>\n",
       "      <td>112</td>\n",
       "      <td>152</td>\n",
       "      <td>12.18</td>\n",
       "      <td>4.04</td>\n",
       "      <td>37.83</td>\n",
       "      <td>1</td>\n",
       "      <td>63</td>\n",
       "      <td>34.57</td>\n",
       "      <td>4.17</td>\n",
       "      <td>64</td>\n",
       "    </tr>\n",
       "    <tr>\n",
       "      <th>112</th>\n",
       "      <td>113</td>\n",
       "      <td>134</td>\n",
       "      <td>6.10</td>\n",
       "      <td>4.77</td>\n",
       "      <td>26.08</td>\n",
       "      <td>0</td>\n",
       "      <td>47</td>\n",
       "      <td>23.82</td>\n",
       "      <td>1.03</td>\n",
       "      <td>49</td>\n",
       "    </tr>\n",
       "    <tr>\n",
       "      <th>113</th>\n",
       "      <td>114</td>\n",
       "      <td>101</td>\n",
       "      <td>0.48</td>\n",
       "      <td>7.26</td>\n",
       "      <td>13.00</td>\n",
       "      <td>0</td>\n",
       "      <td>50</td>\n",
       "      <td>19.82</td>\n",
       "      <td>5.19</td>\n",
       "      <td>16</td>\n",
       "    </tr>\n",
       "    <tr>\n",
       "      <th>114</th>\n",
       "      <td>115</td>\n",
       "      <td>134</td>\n",
       "      <td>1.10</td>\n",
       "      <td>3.54</td>\n",
       "      <td>20.41</td>\n",
       "      <td>1</td>\n",
       "      <td>58</td>\n",
       "      <td>24.54</td>\n",
       "      <td>39.91</td>\n",
       "      <td>39</td>\n",
       "    </tr>\n",
       "    <tr>\n",
       "      <th>115</th>\n",
       "      <td>116</td>\n",
       "      <td>144</td>\n",
       "      <td>2.40</td>\n",
       "      <td>8.13</td>\n",
       "      <td>35.61</td>\n",
       "      <td>0</td>\n",
       "      <td>46</td>\n",
       "      <td>27.38</td>\n",
       "      <td>13.37</td>\n",
       "      <td>60</td>\n",
       "    </tr>\n",
       "  </tbody>\n",
       "</table>\n",
       "<p>116 rows × 10 columns</p>\n",
       "</div>"
      ],
      "text/plain": [
       "      id  sbp  tobacco    ldl  adiposity  famhist  typea  obesity  alcohol  \\\n",
       "0      1  132     0.00   4.17      36.57        0     57    30.61    18.00   \n",
       "1      2  124     1.80   3.74      16.64        1     42    22.26    10.49   \n",
       "2      3  198     0.52  11.89      27.68        1     48    28.40    78.99   \n",
       "3      4  128     2.24   2.83      26.48        0     48    23.96    47.42   \n",
       "4      5  128     2.60   4.94      21.36        0     61    21.30     0.00   \n",
       "..   ...  ...      ...    ...        ...      ...    ...      ...      ...   \n",
       "111  112  152    12.18   4.04      37.83        1     63    34.57     4.17   \n",
       "112  113  134     6.10   4.77      26.08        0     47    23.82     1.03   \n",
       "113  114  101     0.48   7.26      13.00        0     50    19.82     5.19   \n",
       "114  115  134     1.10   3.54      20.41        1     58    24.54    39.91   \n",
       "115  116  144     2.40   8.13      35.61        0     46    27.38    13.37   \n",
       "\n",
       "     age  \n",
       "0     49  \n",
       "1     20  \n",
       "2     26  \n",
       "3     27  \n",
       "4     31  \n",
       "..   ...  \n",
       "111   64  \n",
       "112   49  \n",
       "113   16  \n",
       "114   39  \n",
       "115   60  \n",
       "\n",
       "[116 rows x 10 columns]"
      ]
     },
     "execution_count": 30,
     "metadata": {},
     "output_type": "execute_result"
    }
   ],
   "source": [
    "datos_nuevas_instancias2 = datos_nuevas_instancias.replace({\"Present\":1,\"Absent\":0})\n",
    "datos_nuevas_instancias2"
   ]
  },
  {
   "cell_type": "code",
   "execution_count": 41,
   "metadata": {},
   "outputs": [
    {
     "data": {
      "text/html": [
       "<div>\n",
       "<style scoped>\n",
       "    .dataframe tbody tr th:only-of-type {\n",
       "        vertical-align: middle;\n",
       "    }\n",
       "\n",
       "    .dataframe tbody tr th {\n",
       "        vertical-align: top;\n",
       "    }\n",
       "\n",
       "    .dataframe thead th {\n",
       "        text-align: right;\n",
       "    }\n",
       "</style>\n",
       "<table border=\"1\" class=\"dataframe\">\n",
       "  <thead>\n",
       "    <tr style=\"text-align: right;\">\n",
       "      <th></th>\n",
       "      <th>sbp</th>\n",
       "      <th>tobacco</th>\n",
       "      <th>ldl</th>\n",
       "      <th>adiposity</th>\n",
       "      <th>famhist</th>\n",
       "      <th>typea</th>\n",
       "      <th>obesity</th>\n",
       "      <th>alcohol</th>\n",
       "      <th>age</th>\n",
       "    </tr>\n",
       "  </thead>\n",
       "  <tbody>\n",
       "    <tr>\n",
       "      <th>0</th>\n",
       "      <td>132</td>\n",
       "      <td>0.00</td>\n",
       "      <td>4.17</td>\n",
       "      <td>36.57</td>\n",
       "      <td>0</td>\n",
       "      <td>57</td>\n",
       "      <td>30.61</td>\n",
       "      <td>18.00</td>\n",
       "      <td>49</td>\n",
       "    </tr>\n",
       "    <tr>\n",
       "      <th>1</th>\n",
       "      <td>124</td>\n",
       "      <td>1.80</td>\n",
       "      <td>3.74</td>\n",
       "      <td>16.64</td>\n",
       "      <td>1</td>\n",
       "      <td>42</td>\n",
       "      <td>22.26</td>\n",
       "      <td>10.49</td>\n",
       "      <td>20</td>\n",
       "    </tr>\n",
       "    <tr>\n",
       "      <th>2</th>\n",
       "      <td>198</td>\n",
       "      <td>0.52</td>\n",
       "      <td>11.89</td>\n",
       "      <td>27.68</td>\n",
       "      <td>1</td>\n",
       "      <td>48</td>\n",
       "      <td>28.40</td>\n",
       "      <td>78.99</td>\n",
       "      <td>26</td>\n",
       "    </tr>\n",
       "    <tr>\n",
       "      <th>3</th>\n",
       "      <td>128</td>\n",
       "      <td>2.24</td>\n",
       "      <td>2.83</td>\n",
       "      <td>26.48</td>\n",
       "      <td>0</td>\n",
       "      <td>48</td>\n",
       "      <td>23.96</td>\n",
       "      <td>47.42</td>\n",
       "      <td>27</td>\n",
       "    </tr>\n",
       "    <tr>\n",
       "      <th>4</th>\n",
       "      <td>128</td>\n",
       "      <td>2.60</td>\n",
       "      <td>4.94</td>\n",
       "      <td>21.36</td>\n",
       "      <td>0</td>\n",
       "      <td>61</td>\n",
       "      <td>21.30</td>\n",
       "      <td>0.00</td>\n",
       "      <td>31</td>\n",
       "    </tr>\n",
       "    <tr>\n",
       "      <th>...</th>\n",
       "      <td>...</td>\n",
       "      <td>...</td>\n",
       "      <td>...</td>\n",
       "      <td>...</td>\n",
       "      <td>...</td>\n",
       "      <td>...</td>\n",
       "      <td>...</td>\n",
       "      <td>...</td>\n",
       "      <td>...</td>\n",
       "    </tr>\n",
       "    <tr>\n",
       "      <th>111</th>\n",
       "      <td>152</td>\n",
       "      <td>12.18</td>\n",
       "      <td>4.04</td>\n",
       "      <td>37.83</td>\n",
       "      <td>1</td>\n",
       "      <td>63</td>\n",
       "      <td>34.57</td>\n",
       "      <td>4.17</td>\n",
       "      <td>64</td>\n",
       "    </tr>\n",
       "    <tr>\n",
       "      <th>112</th>\n",
       "      <td>134</td>\n",
       "      <td>6.10</td>\n",
       "      <td>4.77</td>\n",
       "      <td>26.08</td>\n",
       "      <td>0</td>\n",
       "      <td>47</td>\n",
       "      <td>23.82</td>\n",
       "      <td>1.03</td>\n",
       "      <td>49</td>\n",
       "    </tr>\n",
       "    <tr>\n",
       "      <th>113</th>\n",
       "      <td>101</td>\n",
       "      <td>0.48</td>\n",
       "      <td>7.26</td>\n",
       "      <td>13.00</td>\n",
       "      <td>0</td>\n",
       "      <td>50</td>\n",
       "      <td>19.82</td>\n",
       "      <td>5.19</td>\n",
       "      <td>16</td>\n",
       "    </tr>\n",
       "    <tr>\n",
       "      <th>114</th>\n",
       "      <td>134</td>\n",
       "      <td>1.10</td>\n",
       "      <td>3.54</td>\n",
       "      <td>20.41</td>\n",
       "      <td>1</td>\n",
       "      <td>58</td>\n",
       "      <td>24.54</td>\n",
       "      <td>39.91</td>\n",
       "      <td>39</td>\n",
       "    </tr>\n",
       "    <tr>\n",
       "      <th>115</th>\n",
       "      <td>144</td>\n",
       "      <td>2.40</td>\n",
       "      <td>8.13</td>\n",
       "      <td>35.61</td>\n",
       "      <td>0</td>\n",
       "      <td>46</td>\n",
       "      <td>27.38</td>\n",
       "      <td>13.37</td>\n",
       "      <td>60</td>\n",
       "    </tr>\n",
       "  </tbody>\n",
       "</table>\n",
       "<p>116 rows × 9 columns</p>\n",
       "</div>"
      ],
      "text/plain": [
       "     sbp  tobacco    ldl  adiposity  famhist  typea  obesity  alcohol  age\n",
       "0    132     0.00   4.17      36.57        0     57    30.61    18.00   49\n",
       "1    124     1.80   3.74      16.64        1     42    22.26    10.49   20\n",
       "2    198     0.52  11.89      27.68        1     48    28.40    78.99   26\n",
       "3    128     2.24   2.83      26.48        0     48    23.96    47.42   27\n",
       "4    128     2.60   4.94      21.36        0     61    21.30     0.00   31\n",
       "..   ...      ...    ...        ...      ...    ...      ...      ...  ...\n",
       "111  152    12.18   4.04      37.83        1     63    34.57     4.17   64\n",
       "112  134     6.10   4.77      26.08        0     47    23.82     1.03   49\n",
       "113  101     0.48   7.26      13.00        0     50    19.82     5.19   16\n",
       "114  134     1.10   3.54      20.41        1     58    24.54    39.91   39\n",
       "115  144     2.40   8.13      35.61        0     46    27.38    13.37   60\n",
       "\n",
       "[116 rows x 9 columns]"
      ]
     },
     "execution_count": 41,
     "metadata": {},
     "output_type": "execute_result"
    }
   ],
   "source": [
    "datos_nuevas_instancias = datos_nuevas_instancias2.iloc[:,1:10]\n",
    "datos_nuevas_instancias"
   ]
  },
  {
   "cell_type": "code",
   "execution_count": 32,
   "metadata": {},
   "outputs": [],
   "source": [
    "prediccion_nuevos_individuos=modelo.predict(datos_nuevas_instancias)\n",
    "datos_clasificados=pd.DataFrame(prediccion_nuevos_individuos)"
   ]
  },
  {
   "cell_type": "code",
   "execution_count": 33,
   "metadata": {},
   "outputs": [],
   "source": [
    "datos_clasificados.index = datos_clasificados.index + 1"
   ]
  },
  {
   "cell_type": "code",
   "execution_count": 34,
   "metadata": {},
   "outputs": [],
   "source": [
    "datos_clasificados.columns = ['Predicted']\n",
    "datos_clasificados.index.names = ['id']"
   ]
  },
  {
   "cell_type": "code",
   "execution_count": 35,
   "metadata": {},
   "outputs": [
    {
     "data": {
      "text/plain": [
       "Index(['Predicted'], dtype='object')"
      ]
     },
     "execution_count": 35,
     "metadata": {},
     "output_type": "execute_result"
    }
   ],
   "source": [
    "datos_clasificados.columns"
   ]
  },
  {
   "cell_type": "code",
   "execution_count": 37,
   "metadata": {},
   "outputs": [],
   "source": [
    "datos_clasificados.to_csv('datos_a_predecir.csv',sep=',')"
   ]
  }
 ],
 "metadata": {
  "kernelspec": {
   "display_name": "Python 3",
   "language": "python",
   "name": "python3"
  },
  "language_info": {
   "codemirror_mode": {
    "name": "ipython",
    "version": 3
   },
   "file_extension": ".py",
   "mimetype": "text/x-python",
   "name": "python",
   "nbconvert_exporter": "python",
   "pygments_lexer": "ipython3",
   "version": "3.7.6"
  }
 },
 "nbformat": 4,
 "nbformat_minor": 4
}
